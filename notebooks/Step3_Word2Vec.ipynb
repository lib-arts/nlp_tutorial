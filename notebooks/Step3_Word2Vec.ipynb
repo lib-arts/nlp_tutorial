{
 "cells": [
  {
   "cell_type": "code",
   "execution_count": 1,
   "metadata": {},
   "outputs": [],
   "source": [
    "\"\"\"\n",
    "参考リスト\n",
    "https://radimrehurek.com/gensim/models/word2vec.html\n",
    "-> gensimの公式ドキュメントにおけるWord2Vecの使用方法\n",
    "http://m0t0k1ch1st0ry.com/blog/2016/08/28/word2vec/\n",
    "-> 上記を参考に老人と海を題材に使用、mecabのインストールは面倒なので形態素解析部分はJanomeに変更した\n",
    "\"\"\"\n",
    "import codecs\n",
    "from janome.tokenizer import Tokenizer\n",
    "from gensim.models import word2vec"
   ]
  },
  {
   "cell_type": "code",
   "execution_count": 2,
   "metadata": {},
   "outputs": [],
   "source": [
    "# split sentences into words(separated by white-space)\n",
    "text_space = \"\"\n",
    "t = Tokenizer()\n",
    "with codecs.open('files_step3/rojinto_umi.txt', 'r', 'utf-8') as f:\n",
    "    txt = f.read()\n",
    "    for token in t.tokenize(txt, stream=True):\n",
    "        text_space += token.surface\n",
    "        text_space += \" \""
   ]
  },
  {
   "cell_type": "code",
   "execution_count": 3,
   "metadata": {},
   "outputs": [],
   "source": [
    "# write words with white space\n",
    "with codecs.open('files_step3/rojinto_umi_wakachi.txt', 'w', 'utf-8') as file:\n",
    "    file.write(text_space)"
   ]
  },
  {
   "cell_type": "code",
   "execution_count": 4,
   "metadata": {},
   "outputs": [],
   "source": [
    "# make Word2Vec-model\n",
    "sentences = word2vec.LineSentence('files_step3/rojinto_umi_wakachi.txt')\n",
    "model = word2vec.Word2Vec(sentences,\n",
    "                          sg=1,\n",
    "                          size=100,\n",
    "                          min_count=1,\n",
    "                          window=10,\n",
    "                          hs=1,\n",
    "                          negative=0)\n",
    "model.save('files_step3/rojinto.model')"
   ]
  },
  {
   "cell_type": "code",
   "execution_count": 5,
   "metadata": {},
   "outputs": [
    {
     "data": {
      "text/plain": [
       "[('苦しい', 0.9698299169540405),\n",
       " ('でかく', 0.9664372801780701),\n",
       " ('記事', 0.946312427520752),\n",
       " ('泥棒', 0.9444741606712341),\n",
       " ('友人', 0.9362441897392273),\n",
       " ('ホタ', 0.9334908127784729),\n",
       " ('です', 0.9333674311637878),\n",
       " ('Ｔ', 0.932482123374939),\n",
       " ('靴', 0.9323440790176392),\n",
       " ('傷め', 0.9267529249191284)]"
      ]
     },
     "execution_count": 5,
     "metadata": {},
     "output_type": "execute_result"
    }
   ],
   "source": [
    "# model-load and calculating similarity(extract similar words)\n",
    "model = word2vec.Word2Vec.load(\"files_step3/rojinto.model\")\n",
    "model.wv.most_similar(positive=\"人生\", topn=10)"
   ]
  },
  {
   "cell_type": "code",
   "execution_count": 6,
   "metadata": {},
   "outputs": [
    {
     "data": {
      "text/plain": [
       "array([ 4.04508486e-02, -2.47503221e-02,  1.79849174e-02, -6.37428388e-02,\n",
       "        1.75205320e-02, -1.75315551e-02,  1.74863972e-02,  5.33269010e-02,\n",
       "        2.03450341e-02, -4.35312428e-02,  1.78511534e-03, -2.76052617e-02,\n",
       "        2.83107311e-02, -7.27434829e-02, -1.08471690e-02,  2.55673565e-02,\n",
       "        9.58433151e-02, -2.54634880e-02, -5.24896979e-02, -4.56349216e-02,\n",
       "       -3.77362184e-02,  7.20929578e-02,  1.19373929e-02, -7.44235292e-02,\n",
       "        1.48399388e-02,  1.08616063e-02,  6.06657080e-02,  2.17229500e-02,\n",
       "       -5.41754588e-02, -8.23772606e-03,  1.55536365e-03, -6.64612129e-02,\n",
       "       -2.23859847e-02, -6.45559339e-06,  2.42422079e-03,  1.10818651e-02,\n",
       "        2.41173618e-02, -3.19457836e-02,  5.90094812e-02, -4.97469772e-03,\n",
       "       -4.41419519e-03,  3.90878692e-02, -2.24785097e-02, -2.22287737e-02,\n",
       "       -6.56527607e-03, -5.26908860e-02,  9.89700668e-03,  1.20302029e-02,\n",
       "       -4.85533178e-02, -4.96136956e-02,  4.26442474e-02, -3.24781165e-02,\n",
       "       -2.43618991e-02, -2.59466879e-02, -1.22242654e-02, -8.86902213e-03,\n",
       "       -2.57236157e-02,  1.44575294e-02, -3.12220957e-02, -3.20566993e-04,\n",
       "       -9.86724533e-03, -4.44059297e-02, -1.50727425e-02, -3.06545347e-02,\n",
       "       -1.41567811e-02, -1.29197976e-02,  4.25389111e-02, -2.96223480e-02,\n",
       "        7.72854500e-03, -3.85013372e-02, -3.30138132e-02, -1.24267405e-02,\n",
       "        8.24165531e-03, -7.75789469e-02,  3.50005403e-02, -1.23393405e-02,\n",
       "       -3.78781073e-02, -6.11505359e-02, -2.19289307e-02,  5.25174998e-02,\n",
       "       -4.60629985e-02,  5.52154444e-02, -6.35499433e-02, -1.01633994e-02,\n",
       "        3.13716084e-02, -4.69766464e-03, -5.14469333e-02,  3.66519056e-02,\n",
       "        9.59044613e-04,  2.69488748e-02,  3.17938961e-02, -2.08515115e-02,\n",
       "       -5.12911193e-02,  5.73299709e-04, -5.61854132e-02, -1.97231732e-02,\n",
       "        6.65215477e-02, -1.78553388e-02,  3.62069458e-02, -1.44029828e-02],\n",
       "      dtype=float32)"
      ]
     },
     "execution_count": 6,
     "metadata": {},
     "output_type": "execute_result"
    }
   ],
   "source": [
    "model.wv[\"人生\"]"
   ]
  },
  {
   "cell_type": "code",
   "execution_count": null,
   "metadata": {},
   "outputs": [],
   "source": []
  }
 ],
 "metadata": {
  "kernelspec": {
   "display_name": "Python 2",
   "language": "python",
   "name": "python2"
  },
  "language_info": {
   "codemirror_mode": {
    "name": "ipython",
    "version": 3
   },
   "file_extension": ".py",
   "mimetype": "text/x-python",
   "name": "python",
   "nbconvert_exporter": "python",
   "pygments_lexer": "ipython3",
   "version": "3.6.3"
  }
 },
 "nbformat": 4,
 "nbformat_minor": 2
}
