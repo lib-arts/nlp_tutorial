{
 "cells": [
  {
   "cell_type": "code",
   "execution_count": 1,
   "metadata": {},
   "outputs": [],
   "source": [
    "\"\"\"\n",
    "参考リスト\n",
    "http://mocobeta.github.io/janome/\n",
    "-> Janomeの公式ドキュメント、用法が載っている\n",
    "http://www.lr.pi.titech.ac.jp/~takamura/pubs/pn_ja.dic\n",
    "-> 極性辞書の出展\n",
    "\"\"\"\n",
    "import codecs\n",
    "from janome.tokenizer import Tokenizer"
   ]
  },
  {
   "cell_type": "code",
   "execution_count": 2,
   "metadata": {},
   "outputs": [
    {
     "name": "stdout",
     "output_type": "stream",
     "text": [
      "55126\n",
      "52671\n"
     ]
    }
   ],
   "source": [
    "dict_polarity = {}\n",
    "#num = 0\n",
    "with codecs.open('./files_step5/polarity.txt', 'r', 'utf-8') as f:\n",
    "    line = f.read()\n",
    "    lines = line.split('\\n')\n",
    "    print(len(lines))\n",
    "    for i in range(55125):\n",
    "        line_components = lines[i].split(':')\n",
    "        dict_polarity[line_components[0]] = line_components[3]\n",
    "        #num += 1\n",
    "        #if num != len(dict_polarity):\n",
    "        #    print(lines[i])\n",
    "        #    num = len(dict_polarity)\n",
    "print(len(dict_polarity))"
   ]
  },
  {
   "cell_type": "code",
   "execution_count": 3,
   "metadata": {},
   "outputs": [],
   "source": [
    "def reply_bot(text):\n",
    "    t = Tokenizer()\n",
    "    tokens = t.tokenize(text)\n",
    "    pol_val = 0\n",
    "    for token in tokens:\n",
    "        word = token.surface\n",
    "        #品詞を取得\n",
    "        pos = token.part_of_speech.split(',')[0]\n",
    "        if word in dict_polarity:\n",
    "            pol_val = pol_val + float(dict_polarity[word])\n",
    "        \n",
    "    if pol_val > 0.2:\n",
    "        print(\"それはいいね！！（スコア：\"+str(pol_val)+\"）\")\n",
    "    elif pol_val < -0.2:\n",
    "        print(\"どんまい（スコア：\"+str(pol_val)+\"）\")\n",
    "    else:\n",
    "        print(\"なるほど、そうなんですね〜（スコア：\"+str(pol_val)+\"）\")"
   ]
  },
  {
   "cell_type": "code",
   "execution_count": 4,
   "metadata": {},
   "outputs": [
    {
     "name": "stdout",
     "output_type": "stream",
     "text": [
      "それはいいね！！（スコア：2.780099）\n"
     ]
    }
   ],
   "source": [
    "reply_bot(\"素晴らしい才能だと称える\")"
   ]
  },
  {
   "cell_type": "code",
   "execution_count": 5,
   "metadata": {},
   "outputs": [
    {
     "name": "stdout",
     "output_type": "stream",
     "text": [
      "どんまい（スコア：-2.9330819999999997）\n"
     ]
    }
   ],
   "source": [
    "reply_bot(\"愕然として気が抜ける\")"
   ]
  },
  {
   "cell_type": "code",
   "execution_count": 6,
   "metadata": {},
   "outputs": [
    {
     "name": "stdout",
     "output_type": "stream",
     "text": [
      "どんまい（スコア：-0.765739）\n"
     ]
    }
   ],
   "source": [
    "reply_bot(\"眠い\")"
   ]
  },
  {
   "cell_type": "code",
   "execution_count": 7,
   "metadata": {},
   "outputs": [
    {
     "name": "stdout",
     "output_type": "stream",
     "text": [
      "どんまい（スコア：-1.926072）\n"
     ]
    }
   ],
   "source": [
    "reply_bot(\"金がない\")"
   ]
  },
  {
   "cell_type": "code",
   "execution_count": 8,
   "metadata": {},
   "outputs": [
    {
     "name": "stdout",
     "output_type": "stream",
     "text": [
      "それはいいね！！（スコア：0.965524）\n"
     ]
    }
   ],
   "source": [
    "reply_bot(\"一攫千金！\")"
   ]
  },
  {
   "cell_type": "code",
   "execution_count": 9,
   "metadata": {},
   "outputs": [
    {
     "name": "stdout",
     "output_type": "stream",
     "text": [
      "なるほど、そうなんですね〜（スコア：0）\n"
     ]
    }
   ],
   "source": [
    "reply_bot(\"いざ鎌倉\")"
   ]
  },
  {
   "cell_type": "code",
   "execution_count": 10,
   "metadata": {},
   "outputs": [
    {
     "name": "stdout",
     "output_type": "stream",
     "text": [
      "なるほど、そうなんですね〜（スコア：0）\n"
     ]
    }
   ],
   "source": [
    "reply_bot(\"本能寺の変\")"
   ]
  },
  {
   "cell_type": "code",
   "execution_count": null,
   "metadata": {},
   "outputs": [],
   "source": []
  },
  {
   "cell_type": "code",
   "execution_count": null,
   "metadata": {},
   "outputs": [],
   "source": []
  }
 ],
 "metadata": {
  "kernelspec": {
   "display_name": "Python 3",
   "language": "python",
   "name": "python3"
  },
  "language_info": {
   "codemirror_mode": {
    "name": "ipython",
    "version": 3
   },
   "file_extension": ".py",
   "mimetype": "text/x-python",
   "name": "python",
   "nbconvert_exporter": "python",
   "pygments_lexer": "ipython3",
   "version": "3.6.3"
  }
 },
 "nbformat": 4,
 "nbformat_minor": 2
}
